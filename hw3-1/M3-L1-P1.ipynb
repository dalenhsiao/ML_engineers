{
 "cells": [
  {
   "cell_type": "markdown",
   "metadata": {},
   "source": [
    "# Problem 1 (5 points)"
   ]
  },
  {
   "cell_type": "code",
   "execution_count": 1,
   "metadata": {},
   "outputs": [],
   "source": [
    "import numpy as np\n",
    "import matplotlib.pyplot as plt"
   ]
  },
  {
   "attachments": {},
   "cell_type": "markdown",
   "metadata": {},
   "source": [
    "## Sigmoid function\n",
    "\n",
    "Define a function, `sigmoid(h)`, which computes and returns the sigmoid `g(h)` given an input `h`.\n",
    "Recall the mathematical formulation of sigmoid:\n",
    "$$ g(h) = \\frac{1}{1+e^{-h}}$$"
   ]
  },
  {
   "cell_type": "code",
   "execution_count": 2,
   "metadata": {},
   "outputs": [],
   "source": [
    "def sigmoid(h):\n",
    "    # YOUR CODE GOES HERE    \n",
    "    return 1/(1+np.exp(-h))"
   ]
  },
  {
   "attachments": {},
   "cell_type": "markdown",
   "metadata": {},
   "source": [
    "## Transformation function\n",
    "In logistic regression, we transform the input before applying the sigmoid function. This transformation can take many forms, but here let's define a function `transform_quadratic(x,w)` that takes in an input `x`, and a weight vector `w`, and returns the sum $ w_0 \\cdot 1 + w_1 \\cdot x + w_2 \\cdot x^2 $."
   ]
  },
  {
   "cell_type": "code",
   "execution_count": 3,
   "metadata": {},
   "outputs": [],
   "source": [
    "def transform_quadratic(x, w):\n",
    "    # YOUR CODE GOES HERE\n",
    "    # input x is a 1D data point\n",
    "    # input w is a row vector \n",
    "    x = np.array([x**(3-i) for i in range(1,4)]).reshape(-1,1)\n",
    "    w = np.array(w).reshape(1,-1)\n",
    "    return  x @ w \n"
   ]
  },
  {
   "attachments": {},
   "cell_type": "markdown",
   "metadata": {},
   "source": [
    "## Example\n",
    "\n",
    "Now, we will use both `sigmoid()` and `transform_quadratic()` in a logistic regression context.\n",
    "\n",
    "Suppose a logistic regression model states that:\n",
    "$$P(y=1\\;|\\;x) = g(\\textbf{w}'x),$$\n",
    "for $g(h)$ the sigmoid function and $\\textbf{w} = [4, -3, 2]$.\n",
    "\n",
    "Use the functions you wrote to compute $P(y=1\\;|\\;x=1.2)$ and $P(y=1\\;|\\;x=7)$. Print these probabilities."
   ]
  },
  {
   "cell_type": "code",
   "execution_count": 4,
   "metadata": {},
   "outputs": [
    {
     "name": "stdout",
     "output_type": "stream",
     "text": [
      "x = 1.2 --> P(y=1) = [[0.99685879 0.01312532 0.94684886]\n",
      " [0.99183743 0.02659699 0.9168273 ]\n",
      " [0.98201379 0.04742587 0.88079708]]\n",
      "x = 7.0 --> P(y=1) = [[1.00000000e+00 1.44115655e-64 1.00000000e+00]\n",
      " [1.00000000e+00 7.58256042e-10 9.99999168e-01]\n",
      " [9.82013790e-01 4.74258732e-02 8.80797078e-01]]\n"
     ]
    }
   ],
   "source": [
    "w = [4,-3,2]\n",
    "for x in [1.2, 7.]:\n",
    "    P = sigmoid(transform_quadratic(x,w))\n",
    "    print(f\"x = {x:3} --> P(y=1) = {P}\")"
   ]
  }
 ],
 "metadata": {
  "kernelspec": {
   "display_name": "ipynb_env",
   "language": "python",
   "name": "ipynb_env"
  },
  "language_info": {
   "codemirror_mode": {
    "name": "ipython",
    "version": 3
   },
   "file_extension": ".py",
   "mimetype": "text/x-python",
   "name": "python",
   "nbconvert_exporter": "python",
   "pygments_lexer": "ipython3",
   "version": "3.11.4"
  },
  "orig_nbformat": 4
 },
 "nbformat": 4,
 "nbformat_minor": 2
}
